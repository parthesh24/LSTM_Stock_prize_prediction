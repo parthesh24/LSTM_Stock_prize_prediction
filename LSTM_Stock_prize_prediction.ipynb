{
  "nbformat": 4,
  "nbformat_minor": 0,
  "metadata": {
    "colab": {
      "provenance": []
    },
    "kernelspec": {
      "name": "python3",
      "display_name": "Python 3"
    },
    "language_info": {
      "name": "python"
    }
  },
  "cells": [
    {
      "cell_type": "code",
      "execution_count": null,
      "metadata": {
        "id": "39h2uRJ8wMWZ"
      },
      "outputs": [],
      "source": [
        "import numpy as np\n",
        "import pandas as pd"
      ]
    },
    {
      "cell_type": "code",
      "source": [
        "df=pd.read_csv(\"/content/Google_Stock_Price_Train.csv\")"
      ],
      "metadata": {
        "id": "BLrtittQwRvh"
      },
      "execution_count": null,
      "outputs": []
    },
    {
      "cell_type": "code",
      "source": [
        "df.head()"
      ],
      "metadata": {
        "colab": {
          "base_uri": "https://localhost:8080/",
          "height": 206
        },
        "id": "AoycBvkkw4g3",
        "outputId": "b5f5a405-2ce2-4342-8a1b-001460a26df5"
      },
      "execution_count": null,
      "outputs": [
        {
          "output_type": "execute_result",
          "data": {
            "text/plain": [
              "         Date    Open    High     Low   Close       Volume\n",
              "0  01/03/2012  325.25  332.83  324.97  663.59    73,80,500\n",
              "1  01/04/2012  331.27  333.87  329.08  666.45    57,49,400\n",
              "2  01/05/2012  329.83  330.75  326.89  657.21    65,90,300\n",
              "3  01/06/2012  328.34  328.77  323.68  648.24    54,05,900\n",
              "4  01/09/2012  322.04  322.29  309.46  620.76  1,16,88,800"
            ],
            "text/html": [
              "\n",
              "  <div id=\"df-ada1f6a6-4195-4d59-9ccb-229d8aea0137\" class=\"colab-df-container\">\n",
              "    <div>\n",
              "<style scoped>\n",
              "    .dataframe tbody tr th:only-of-type {\n",
              "        vertical-align: middle;\n",
              "    }\n",
              "\n",
              "    .dataframe tbody tr th {\n",
              "        vertical-align: top;\n",
              "    }\n",
              "\n",
              "    .dataframe thead th {\n",
              "        text-align: right;\n",
              "    }\n",
              "</style>\n",
              "<table border=\"1\" class=\"dataframe\">\n",
              "  <thead>\n",
              "    <tr style=\"text-align: right;\">\n",
              "      <th></th>\n",
              "      <th>Date</th>\n",
              "      <th>Open</th>\n",
              "      <th>High</th>\n",
              "      <th>Low</th>\n",
              "      <th>Close</th>\n",
              "      <th>Volume</th>\n",
              "    </tr>\n",
              "  </thead>\n",
              "  <tbody>\n",
              "    <tr>\n",
              "      <th>0</th>\n",
              "      <td>01/03/2012</td>\n",
              "      <td>325.25</td>\n",
              "      <td>332.83</td>\n",
              "      <td>324.97</td>\n",
              "      <td>663.59</td>\n",
              "      <td>73,80,500</td>\n",
              "    </tr>\n",
              "    <tr>\n",
              "      <th>1</th>\n",
              "      <td>01/04/2012</td>\n",
              "      <td>331.27</td>\n",
              "      <td>333.87</td>\n",
              "      <td>329.08</td>\n",
              "      <td>666.45</td>\n",
              "      <td>57,49,400</td>\n",
              "    </tr>\n",
              "    <tr>\n",
              "      <th>2</th>\n",
              "      <td>01/05/2012</td>\n",
              "      <td>329.83</td>\n",
              "      <td>330.75</td>\n",
              "      <td>326.89</td>\n",
              "      <td>657.21</td>\n",
              "      <td>65,90,300</td>\n",
              "    </tr>\n",
              "    <tr>\n",
              "      <th>3</th>\n",
              "      <td>01/06/2012</td>\n",
              "      <td>328.34</td>\n",
              "      <td>328.77</td>\n",
              "      <td>323.68</td>\n",
              "      <td>648.24</td>\n",
              "      <td>54,05,900</td>\n",
              "    </tr>\n",
              "    <tr>\n",
              "      <th>4</th>\n",
              "      <td>01/09/2012</td>\n",
              "      <td>322.04</td>\n",
              "      <td>322.29</td>\n",
              "      <td>309.46</td>\n",
              "      <td>620.76</td>\n",
              "      <td>1,16,88,800</td>\n",
              "    </tr>\n",
              "  </tbody>\n",
              "</table>\n",
              "</div>\n",
              "    <div class=\"colab-df-buttons\">\n",
              "\n",
              "  <div class=\"colab-df-container\">\n",
              "    <button class=\"colab-df-convert\" onclick=\"convertToInteractive('df-ada1f6a6-4195-4d59-9ccb-229d8aea0137')\"\n",
              "            title=\"Convert this dataframe to an interactive table.\"\n",
              "            style=\"display:none;\">\n",
              "\n",
              "  <svg xmlns=\"http://www.w3.org/2000/svg\" height=\"24px\" viewBox=\"0 -960 960 960\">\n",
              "    <path d=\"M120-120v-720h720v720H120Zm60-500h600v-160H180v160Zm220 220h160v-160H400v160Zm0 220h160v-160H400v160ZM180-400h160v-160H180v160Zm440 0h160v-160H620v160ZM180-180h160v-160H180v160Zm440 0h160v-160H620v160Z\"/>\n",
              "  </svg>\n",
              "    </button>\n",
              "\n",
              "  <style>\n",
              "    .colab-df-container {\n",
              "      display:flex;\n",
              "      gap: 12px;\n",
              "    }\n",
              "\n",
              "    .colab-df-convert {\n",
              "      background-color: #E8F0FE;\n",
              "      border: none;\n",
              "      border-radius: 50%;\n",
              "      cursor: pointer;\n",
              "      display: none;\n",
              "      fill: #1967D2;\n",
              "      height: 32px;\n",
              "      padding: 0 0 0 0;\n",
              "      width: 32px;\n",
              "    }\n",
              "\n",
              "    .colab-df-convert:hover {\n",
              "      background-color: #E2EBFA;\n",
              "      box-shadow: 0px 1px 2px rgba(60, 64, 67, 0.3), 0px 1px 3px 1px rgba(60, 64, 67, 0.15);\n",
              "      fill: #174EA6;\n",
              "    }\n",
              "\n",
              "    .colab-df-buttons div {\n",
              "      margin-bottom: 4px;\n",
              "    }\n",
              "\n",
              "    [theme=dark] .colab-df-convert {\n",
              "      background-color: #3B4455;\n",
              "      fill: #D2E3FC;\n",
              "    }\n",
              "\n",
              "    [theme=dark] .colab-df-convert:hover {\n",
              "      background-color: #434B5C;\n",
              "      box-shadow: 0px 1px 3px 1px rgba(0, 0, 0, 0.15);\n",
              "      filter: drop-shadow(0px 1px 2px rgba(0, 0, 0, 0.3));\n",
              "      fill: #FFFFFF;\n",
              "    }\n",
              "  </style>\n",
              "\n",
              "    <script>\n",
              "      const buttonEl =\n",
              "        document.querySelector('#df-ada1f6a6-4195-4d59-9ccb-229d8aea0137 button.colab-df-convert');\n",
              "      buttonEl.style.display =\n",
              "        google.colab.kernel.accessAllowed ? 'block' : 'none';\n",
              "\n",
              "      async function convertToInteractive(key) {\n",
              "        const element = document.querySelector('#df-ada1f6a6-4195-4d59-9ccb-229d8aea0137');\n",
              "        const dataTable =\n",
              "          await google.colab.kernel.invokeFunction('convertToInteractive',\n",
              "                                                    [key], {});\n",
              "        if (!dataTable) return;\n",
              "\n",
              "        const docLinkHtml = 'Like what you see? Visit the ' +\n",
              "          '<a target=\"_blank\" href=https://colab.research.google.com/notebooks/data_table.ipynb>data table notebook</a>'\n",
              "          + ' to learn more about interactive tables.';\n",
              "        element.innerHTML = '';\n",
              "        dataTable['output_type'] = 'display_data';\n",
              "        await google.colab.output.renderOutput(dataTable, element);\n",
              "        const docLink = document.createElement('div');\n",
              "        docLink.innerHTML = docLinkHtml;\n",
              "        element.appendChild(docLink);\n",
              "      }\n",
              "    </script>\n",
              "  </div>\n",
              "\n",
              "\n",
              "<div id=\"df-a92c4745-6c5e-4d42-a010-10df3eea6cae\">\n",
              "  <button class=\"colab-df-quickchart\" onclick=\"quickchart('df-a92c4745-6c5e-4d42-a010-10df3eea6cae')\"\n",
              "            title=\"Suggest charts\"\n",
              "            style=\"display:none;\">\n",
              "\n",
              "<svg xmlns=\"http://www.w3.org/2000/svg\" height=\"24px\"viewBox=\"0 0 24 24\"\n",
              "     width=\"24px\">\n",
              "    <g>\n",
              "        <path d=\"M19 3H5c-1.1 0-2 .9-2 2v14c0 1.1.9 2 2 2h14c1.1 0 2-.9 2-2V5c0-1.1-.9-2-2-2zM9 17H7v-7h2v7zm4 0h-2V7h2v10zm4 0h-2v-4h2v4z\"/>\n",
              "    </g>\n",
              "</svg>\n",
              "  </button>\n",
              "\n",
              "<style>\n",
              "  .colab-df-quickchart {\n",
              "      --bg-color: #E8F0FE;\n",
              "      --fill-color: #1967D2;\n",
              "      --hover-bg-color: #E2EBFA;\n",
              "      --hover-fill-color: #174EA6;\n",
              "      --disabled-fill-color: #AAA;\n",
              "      --disabled-bg-color: #DDD;\n",
              "  }\n",
              "\n",
              "  [theme=dark] .colab-df-quickchart {\n",
              "      --bg-color: #3B4455;\n",
              "      --fill-color: #D2E3FC;\n",
              "      --hover-bg-color: #434B5C;\n",
              "      --hover-fill-color: #FFFFFF;\n",
              "      --disabled-bg-color: #3B4455;\n",
              "      --disabled-fill-color: #666;\n",
              "  }\n",
              "\n",
              "  .colab-df-quickchart {\n",
              "    background-color: var(--bg-color);\n",
              "    border: none;\n",
              "    border-radius: 50%;\n",
              "    cursor: pointer;\n",
              "    display: none;\n",
              "    fill: var(--fill-color);\n",
              "    height: 32px;\n",
              "    padding: 0;\n",
              "    width: 32px;\n",
              "  }\n",
              "\n",
              "  .colab-df-quickchart:hover {\n",
              "    background-color: var(--hover-bg-color);\n",
              "    box-shadow: 0 1px 2px rgba(60, 64, 67, 0.3), 0 1px 3px 1px rgba(60, 64, 67, 0.15);\n",
              "    fill: var(--button-hover-fill-color);\n",
              "  }\n",
              "\n",
              "  .colab-df-quickchart-complete:disabled,\n",
              "  .colab-df-quickchart-complete:disabled:hover {\n",
              "    background-color: var(--disabled-bg-color);\n",
              "    fill: var(--disabled-fill-color);\n",
              "    box-shadow: none;\n",
              "  }\n",
              "\n",
              "  .colab-df-spinner {\n",
              "    border: 2px solid var(--fill-color);\n",
              "    border-color: transparent;\n",
              "    border-bottom-color: var(--fill-color);\n",
              "    animation:\n",
              "      spin 1s steps(1) infinite;\n",
              "  }\n",
              "\n",
              "  @keyframes spin {\n",
              "    0% {\n",
              "      border-color: transparent;\n",
              "      border-bottom-color: var(--fill-color);\n",
              "      border-left-color: var(--fill-color);\n",
              "    }\n",
              "    20% {\n",
              "      border-color: transparent;\n",
              "      border-left-color: var(--fill-color);\n",
              "      border-top-color: var(--fill-color);\n",
              "    }\n",
              "    30% {\n",
              "      border-color: transparent;\n",
              "      border-left-color: var(--fill-color);\n",
              "      border-top-color: var(--fill-color);\n",
              "      border-right-color: var(--fill-color);\n",
              "    }\n",
              "    40% {\n",
              "      border-color: transparent;\n",
              "      border-right-color: var(--fill-color);\n",
              "      border-top-color: var(--fill-color);\n",
              "    }\n",
              "    60% {\n",
              "      border-color: transparent;\n",
              "      border-right-color: var(--fill-color);\n",
              "    }\n",
              "    80% {\n",
              "      border-color: transparent;\n",
              "      border-right-color: var(--fill-color);\n",
              "      border-bottom-color: var(--fill-color);\n",
              "    }\n",
              "    90% {\n",
              "      border-color: transparent;\n",
              "      border-bottom-color: var(--fill-color);\n",
              "    }\n",
              "  }\n",
              "</style>\n",
              "\n",
              "  <script>\n",
              "    async function quickchart(key) {\n",
              "      const quickchartButtonEl =\n",
              "        document.querySelector('#' + key + ' button');\n",
              "      quickchartButtonEl.disabled = true;  // To prevent multiple clicks.\n",
              "      quickchartButtonEl.classList.add('colab-df-spinner');\n",
              "      try {\n",
              "        const charts = await google.colab.kernel.invokeFunction(\n",
              "            'suggestCharts', [key], {});\n",
              "      } catch (error) {\n",
              "        console.error('Error during call to suggestCharts:', error);\n",
              "      }\n",
              "      quickchartButtonEl.classList.remove('colab-df-spinner');\n",
              "      quickchartButtonEl.classList.add('colab-df-quickchart-complete');\n",
              "    }\n",
              "    (() => {\n",
              "      let quickchartButtonEl =\n",
              "        document.querySelector('#df-a92c4745-6c5e-4d42-a010-10df3eea6cae button');\n",
              "      quickchartButtonEl.style.display =\n",
              "        google.colab.kernel.accessAllowed ? 'block' : 'none';\n",
              "    })();\n",
              "  </script>\n",
              "</div>\n",
              "    </div>\n",
              "  </div>\n"
            ],
            "application/vnd.google.colaboratory.intrinsic+json": {
              "type": "dataframe",
              "variable_name": "df",
              "summary": "{\n  \"name\": \"df\",\n  \"rows\": 1509,\n  \"fields\": [\n    {\n      \"column\": \"Date\",\n      \"properties\": {\n        \"dtype\": \"object\",\n        \"num_unique_values\": 1509,\n        \"samples\": [\n          \"4/23/2014\",\n          \"7/25/2016\",\n          \"07/12/2013\"\n        ],\n        \"semantic_type\": \"\",\n        \"description\": \"\"\n      }\n    },\n    {\n      \"column\": \"Open\",\n      \"properties\": {\n        \"dtype\": \"number\",\n        \"std\": 202.6072335725472,\n        \"min\": 279.12,\n        \"max\": 1075.199951,\n        \"num_unique_values\": 1459,\n        \"samples\": [\n          980.0,\n          537.21,\n          442.05\n        ],\n        \"semantic_type\": \"\",\n        \"description\": \"\"\n      }\n    },\n    {\n      \"column\": \"High\",\n      \"properties\": {\n        \"dtype\": \"number\",\n        \"std\": 203.7931579825553,\n        \"min\": 281.21,\n        \"max\": 1078.48999,\n        \"num_unique_values\": 1468,\n        \"samples\": [\n          776.96,\n          378.23,\n          791.340027\n        ],\n        \"semantic_type\": \"\",\n        \"description\": \"\"\n      }\n    },\n    {\n      \"column\": \"Low\",\n      \"properties\": {\n        \"dtype\": \"number\",\n        \"std\": 201.41862459116132,\n        \"min\": 277.22,\n        \"max\": 1063.550049,\n        \"num_unique_values\": 1470,\n        \"samples\": [\n          735.56,\n          381.08,\n          770.41\n        ],\n        \"semantic_type\": \"\",\n        \"description\": \"\"\n      }\n    },\n    {\n      \"column\": \"Close\",\n      \"properties\": {\n        \"dtype\": \"string\",\n        \"num_unique_values\": 1489,\n        \"samples\": [\n          \"646.67\",\n          \"823.05\",\n          \"756.94\"\n        ],\n        \"semantic_type\": \"\",\n        \"description\": \"\"\n      }\n    },\n    {\n      \"column\": \"Volume\",\n      \"properties\": {\n        \"dtype\": \"string\",\n        \"num_unique_values\": 1487,\n        \"samples\": [\n          \"1672000\",\n          \"885800\",\n          \"27,26,100\"\n        ],\n        \"semantic_type\": \"\",\n        \"description\": \"\"\n      }\n    }\n  ]\n}"
            }
          },
          "metadata": {},
          "execution_count": 49
        }
      ]
    },
    {
      "cell_type": "code",
      "source": [
        "df.tail()"
      ],
      "metadata": {
        "colab": {
          "base_uri": "https://localhost:8080/",
          "height": 206
        },
        "id": "VYGAUKFKw51H",
        "outputId": "d2569ab2-1a5b-40d5-f4c8-d3fdbeb19519"
      },
      "execution_count": null,
      "outputs": [
        {
          "output_type": "execute_result",
          "data": {
            "text/plain": [
              "            Date         Open         High          Low        Close   Volume\n",
              "1504  22/12/2017  1061.109985  1064.199951  1059.439941  1060.119995   755100\n",
              "1505  26/12/2017  1058.069946  1060.119995  1050.199951   1056.73999   760600\n",
              "1506  27/12/2017  1057.390015  1058.369995  1048.050049  1049.369995  1271900\n",
              "1507  28/12/2017  1051.599976  1054.750000  1044.770020  1048.140015   837100\n",
              "1508  29/12/2017  1046.719971  1049.699951  1044.900024  1046.400024   887500"
            ],
            "text/html": [
              "\n",
              "  <div id=\"df-85a224af-d8d4-4c6d-81f1-27ac60d5c7f6\" class=\"colab-df-container\">\n",
              "    <div>\n",
              "<style scoped>\n",
              "    .dataframe tbody tr th:only-of-type {\n",
              "        vertical-align: middle;\n",
              "    }\n",
              "\n",
              "    .dataframe tbody tr th {\n",
              "        vertical-align: top;\n",
              "    }\n",
              "\n",
              "    .dataframe thead th {\n",
              "        text-align: right;\n",
              "    }\n",
              "</style>\n",
              "<table border=\"1\" class=\"dataframe\">\n",
              "  <thead>\n",
              "    <tr style=\"text-align: right;\">\n",
              "      <th></th>\n",
              "      <th>Date</th>\n",
              "      <th>Open</th>\n",
              "      <th>High</th>\n",
              "      <th>Low</th>\n",
              "      <th>Close</th>\n",
              "      <th>Volume</th>\n",
              "    </tr>\n",
              "  </thead>\n",
              "  <tbody>\n",
              "    <tr>\n",
              "      <th>1504</th>\n",
              "      <td>22/12/2017</td>\n",
              "      <td>1061.109985</td>\n",
              "      <td>1064.199951</td>\n",
              "      <td>1059.439941</td>\n",
              "      <td>1060.119995</td>\n",
              "      <td>755100</td>\n",
              "    </tr>\n",
              "    <tr>\n",
              "      <th>1505</th>\n",
              "      <td>26/12/2017</td>\n",
              "      <td>1058.069946</td>\n",
              "      <td>1060.119995</td>\n",
              "      <td>1050.199951</td>\n",
              "      <td>1056.73999</td>\n",
              "      <td>760600</td>\n",
              "    </tr>\n",
              "    <tr>\n",
              "      <th>1506</th>\n",
              "      <td>27/12/2017</td>\n",
              "      <td>1057.390015</td>\n",
              "      <td>1058.369995</td>\n",
              "      <td>1048.050049</td>\n",
              "      <td>1049.369995</td>\n",
              "      <td>1271900</td>\n",
              "    </tr>\n",
              "    <tr>\n",
              "      <th>1507</th>\n",
              "      <td>28/12/2017</td>\n",
              "      <td>1051.599976</td>\n",
              "      <td>1054.750000</td>\n",
              "      <td>1044.770020</td>\n",
              "      <td>1048.140015</td>\n",
              "      <td>837100</td>\n",
              "    </tr>\n",
              "    <tr>\n",
              "      <th>1508</th>\n",
              "      <td>29/12/2017</td>\n",
              "      <td>1046.719971</td>\n",
              "      <td>1049.699951</td>\n",
              "      <td>1044.900024</td>\n",
              "      <td>1046.400024</td>\n",
              "      <td>887500</td>\n",
              "    </tr>\n",
              "  </tbody>\n",
              "</table>\n",
              "</div>\n",
              "    <div class=\"colab-df-buttons\">\n",
              "\n",
              "  <div class=\"colab-df-container\">\n",
              "    <button class=\"colab-df-convert\" onclick=\"convertToInteractive('df-85a224af-d8d4-4c6d-81f1-27ac60d5c7f6')\"\n",
              "            title=\"Convert this dataframe to an interactive table.\"\n",
              "            style=\"display:none;\">\n",
              "\n",
              "  <svg xmlns=\"http://www.w3.org/2000/svg\" height=\"24px\" viewBox=\"0 -960 960 960\">\n",
              "    <path d=\"M120-120v-720h720v720H120Zm60-500h600v-160H180v160Zm220 220h160v-160H400v160Zm0 220h160v-160H400v160ZM180-400h160v-160H180v160Zm440 0h160v-160H620v160ZM180-180h160v-160H180v160Zm440 0h160v-160H620v160Z\"/>\n",
              "  </svg>\n",
              "    </button>\n",
              "\n",
              "  <style>\n",
              "    .colab-df-container {\n",
              "      display:flex;\n",
              "      gap: 12px;\n",
              "    }\n",
              "\n",
              "    .colab-df-convert {\n",
              "      background-color: #E8F0FE;\n",
              "      border: none;\n",
              "      border-radius: 50%;\n",
              "      cursor: pointer;\n",
              "      display: none;\n",
              "      fill: #1967D2;\n",
              "      height: 32px;\n",
              "      padding: 0 0 0 0;\n",
              "      width: 32px;\n",
              "    }\n",
              "\n",
              "    .colab-df-convert:hover {\n",
              "      background-color: #E2EBFA;\n",
              "      box-shadow: 0px 1px 2px rgba(60, 64, 67, 0.3), 0px 1px 3px 1px rgba(60, 64, 67, 0.15);\n",
              "      fill: #174EA6;\n",
              "    }\n",
              "\n",
              "    .colab-df-buttons div {\n",
              "      margin-bottom: 4px;\n",
              "    }\n",
              "\n",
              "    [theme=dark] .colab-df-convert {\n",
              "      background-color: #3B4455;\n",
              "      fill: #D2E3FC;\n",
              "    }\n",
              "\n",
              "    [theme=dark] .colab-df-convert:hover {\n",
              "      background-color: #434B5C;\n",
              "      box-shadow: 0px 1px 3px 1px rgba(0, 0, 0, 0.15);\n",
              "      filter: drop-shadow(0px 1px 2px rgba(0, 0, 0, 0.3));\n",
              "      fill: #FFFFFF;\n",
              "    }\n",
              "  </style>\n",
              "\n",
              "    <script>\n",
              "      const buttonEl =\n",
              "        document.querySelector('#df-85a224af-d8d4-4c6d-81f1-27ac60d5c7f6 button.colab-df-convert');\n",
              "      buttonEl.style.display =\n",
              "        google.colab.kernel.accessAllowed ? 'block' : 'none';\n",
              "\n",
              "      async function convertToInteractive(key) {\n",
              "        const element = document.querySelector('#df-85a224af-d8d4-4c6d-81f1-27ac60d5c7f6');\n",
              "        const dataTable =\n",
              "          await google.colab.kernel.invokeFunction('convertToInteractive',\n",
              "                                                    [key], {});\n",
              "        if (!dataTable) return;\n",
              "\n",
              "        const docLinkHtml = 'Like what you see? Visit the ' +\n",
              "          '<a target=\"_blank\" href=https://colab.research.google.com/notebooks/data_table.ipynb>data table notebook</a>'\n",
              "          + ' to learn more about interactive tables.';\n",
              "        element.innerHTML = '';\n",
              "        dataTable['output_type'] = 'display_data';\n",
              "        await google.colab.output.renderOutput(dataTable, element);\n",
              "        const docLink = document.createElement('div');\n",
              "        docLink.innerHTML = docLinkHtml;\n",
              "        element.appendChild(docLink);\n",
              "      }\n",
              "    </script>\n",
              "  </div>\n",
              "\n",
              "\n",
              "<div id=\"df-313f3d5c-b040-4ee0-8f1c-d4a76d2f0519\">\n",
              "  <button class=\"colab-df-quickchart\" onclick=\"quickchart('df-313f3d5c-b040-4ee0-8f1c-d4a76d2f0519')\"\n",
              "            title=\"Suggest charts\"\n",
              "            style=\"display:none;\">\n",
              "\n",
              "<svg xmlns=\"http://www.w3.org/2000/svg\" height=\"24px\"viewBox=\"0 0 24 24\"\n",
              "     width=\"24px\">\n",
              "    <g>\n",
              "        <path d=\"M19 3H5c-1.1 0-2 .9-2 2v14c0 1.1.9 2 2 2h14c1.1 0 2-.9 2-2V5c0-1.1-.9-2-2-2zM9 17H7v-7h2v7zm4 0h-2V7h2v10zm4 0h-2v-4h2v4z\"/>\n",
              "    </g>\n",
              "</svg>\n",
              "  </button>\n",
              "\n",
              "<style>\n",
              "  .colab-df-quickchart {\n",
              "      --bg-color: #E8F0FE;\n",
              "      --fill-color: #1967D2;\n",
              "      --hover-bg-color: #E2EBFA;\n",
              "      --hover-fill-color: #174EA6;\n",
              "      --disabled-fill-color: #AAA;\n",
              "      --disabled-bg-color: #DDD;\n",
              "  }\n",
              "\n",
              "  [theme=dark] .colab-df-quickchart {\n",
              "      --bg-color: #3B4455;\n",
              "      --fill-color: #D2E3FC;\n",
              "      --hover-bg-color: #434B5C;\n",
              "      --hover-fill-color: #FFFFFF;\n",
              "      --disabled-bg-color: #3B4455;\n",
              "      --disabled-fill-color: #666;\n",
              "  }\n",
              "\n",
              "  .colab-df-quickchart {\n",
              "    background-color: var(--bg-color);\n",
              "    border: none;\n",
              "    border-radius: 50%;\n",
              "    cursor: pointer;\n",
              "    display: none;\n",
              "    fill: var(--fill-color);\n",
              "    height: 32px;\n",
              "    padding: 0;\n",
              "    width: 32px;\n",
              "  }\n",
              "\n",
              "  .colab-df-quickchart:hover {\n",
              "    background-color: var(--hover-bg-color);\n",
              "    box-shadow: 0 1px 2px rgba(60, 64, 67, 0.3), 0 1px 3px 1px rgba(60, 64, 67, 0.15);\n",
              "    fill: var(--button-hover-fill-color);\n",
              "  }\n",
              "\n",
              "  .colab-df-quickchart-complete:disabled,\n",
              "  .colab-df-quickchart-complete:disabled:hover {\n",
              "    background-color: var(--disabled-bg-color);\n",
              "    fill: var(--disabled-fill-color);\n",
              "    box-shadow: none;\n",
              "  }\n",
              "\n",
              "  .colab-df-spinner {\n",
              "    border: 2px solid var(--fill-color);\n",
              "    border-color: transparent;\n",
              "    border-bottom-color: var(--fill-color);\n",
              "    animation:\n",
              "      spin 1s steps(1) infinite;\n",
              "  }\n",
              "\n",
              "  @keyframes spin {\n",
              "    0% {\n",
              "      border-color: transparent;\n",
              "      border-bottom-color: var(--fill-color);\n",
              "      border-left-color: var(--fill-color);\n",
              "    }\n",
              "    20% {\n",
              "      border-color: transparent;\n",
              "      border-left-color: var(--fill-color);\n",
              "      border-top-color: var(--fill-color);\n",
              "    }\n",
              "    30% {\n",
              "      border-color: transparent;\n",
              "      border-left-color: var(--fill-color);\n",
              "      border-top-color: var(--fill-color);\n",
              "      border-right-color: var(--fill-color);\n",
              "    }\n",
              "    40% {\n",
              "      border-color: transparent;\n",
              "      border-right-color: var(--fill-color);\n",
              "      border-top-color: var(--fill-color);\n",
              "    }\n",
              "    60% {\n",
              "      border-color: transparent;\n",
              "      border-right-color: var(--fill-color);\n",
              "    }\n",
              "    80% {\n",
              "      border-color: transparent;\n",
              "      border-right-color: var(--fill-color);\n",
              "      border-bottom-color: var(--fill-color);\n",
              "    }\n",
              "    90% {\n",
              "      border-color: transparent;\n",
              "      border-bottom-color: var(--fill-color);\n",
              "    }\n",
              "  }\n",
              "</style>\n",
              "\n",
              "  <script>\n",
              "    async function quickchart(key) {\n",
              "      const quickchartButtonEl =\n",
              "        document.querySelector('#' + key + ' button');\n",
              "      quickchartButtonEl.disabled = true;  // To prevent multiple clicks.\n",
              "      quickchartButtonEl.classList.add('colab-df-spinner');\n",
              "      try {\n",
              "        const charts = await google.colab.kernel.invokeFunction(\n",
              "            'suggestCharts', [key], {});\n",
              "      } catch (error) {\n",
              "        console.error('Error during call to suggestCharts:', error);\n",
              "      }\n",
              "      quickchartButtonEl.classList.remove('colab-df-spinner');\n",
              "      quickchartButtonEl.classList.add('colab-df-quickchart-complete');\n",
              "    }\n",
              "    (() => {\n",
              "      let quickchartButtonEl =\n",
              "        document.querySelector('#df-313f3d5c-b040-4ee0-8f1c-d4a76d2f0519 button');\n",
              "      quickchartButtonEl.style.display =\n",
              "        google.colab.kernel.accessAllowed ? 'block' : 'none';\n",
              "    })();\n",
              "  </script>\n",
              "</div>\n",
              "    </div>\n",
              "  </div>\n"
            ],
            "application/vnd.google.colaboratory.intrinsic+json": {
              "type": "dataframe",
              "repr_error": "0"
            }
          },
          "metadata": {},
          "execution_count": 50
        }
      ]
    },
    {
      "cell_type": "code",
      "source": [
        "import matplotlib.pyplot as plt\n",
        "# import seaborn as sns\n",
        "plt.plot(df.Open)"
      ],
      "metadata": {
        "colab": {
          "base_uri": "https://localhost:8080/",
          "height": 447
        },
        "id": "92gJz1S9w6o_",
        "outputId": "772b544a-860d-4bbd-f75b-6efbd87d95a8"
      },
      "execution_count": null,
      "outputs": [
        {
          "output_type": "execute_result",
          "data": {
            "text/plain": [
              "[<matplotlib.lines.Line2D at 0x7a60ae261480>]"
            ]
          },
          "metadata": {},
          "execution_count": 51
        },
        {
          "output_type": "display_data",
          "data": {
            "text/plain": [
              "<Figure size 640x480 with 1 Axes>"
            ],
            "image/png": "[encoded data removed]"
          },
          "metadata": {}
        }
      ]
    },
    {
      "cell_type": "code",
      "source": [],
      "metadata": {
        "id": "PpyV1_KmyJw3"
      },
      "execution_count": null,
      "outputs": []
    },
    {
      "cell_type": "code",
      "source": [
        "df1=df.Open\n",
        "type(df1)"
      ],
      "metadata": {
        "colab": {
          "base_uri": "https://localhost:8080/",
          "height": 204
        },
        "id": "Z6MMjfSdxatP",
        "outputId": "f4e24790-b888-4ae2-cb93-1e14f70335db"
      },
      "execution_count": null,
      "outputs": [
        {
          "output_type": "execute_result",
          "data": {
            "text/plain": [
              "pandas.core.series.Series"
            ],
            "text/html": [
              "<div style=\"max-width:800px; border: 1px solid var(--colab-border-color);\"><style>\n",
              "      pre.function-repr-contents {\n",
              "        overflow-x: auto;\n",
              "        padding: 8px 12px;\n",
              "        max-height: 500px;\n",
              "      }\n",
              "\n",
              "      pre.function-repr-contents.function-repr-contents-collapsed {\n",
              "        cursor: pointer;\n",
              "        max-height: 100px;\n",
              "      }\n",
              "    </style>\n",
              "    <pre style=\"white-space: initial; background:\n",
              "         var(--colab-secondary-surface-color); padding: 8px 12px;\n",
              "         border-bottom: 1px solid var(--colab-border-color);\"><b>pandas.core.series.Series</b><br/>def __init__(data=None, index=None, dtype: Dtype | None=None, name=None, copy: bool=False, fastpath: bool=False) -&gt; None</pre><pre class=\"function-repr-contents function-repr-contents-collapsed\" style=\"\"><a class=\"filepath\" style=\"display:none\" href=\"#\">/usr/local/lib/python3.10/dist-packages/pandas/core/series.py</a>One-dimensional ndarray with axis labels (including time series).\n",
              "\n",
              "Labels need not be unique but must be a hashable type. The object\n",
              "supports both integer- and label-based indexing and provides a host of\n",
              "methods for performing operations involving the index. Statistical\n",
              "methods from ndarray have been overridden to automatically exclude\n",
              "missing data (currently represented as NaN).\n",
              "\n",
              "Operations between Series (+, -, /, \\*, \\*\\*) align values based on their\n",
              "associated index values-- they need not be the same length. The result\n",
              "index will be the sorted union of the two indexes.\n",
              "\n",
              "Parameters\n",
              "----------\n",
              "data : array-like, Iterable, dict, or scalar value\n",
              "    Contains data stored in Series. If data is a dict, argument order is\n",
              "    maintained.\n",
              "index : array-like or Index (1d)\n",
              "    Values must be hashable and have the same length as `data`.\n",
              "    Non-unique index values are allowed. Will default to\n",
              "    RangeIndex (0, 1, 2, ..., n) if not provided. If data is dict-like\n",
              "    and index is None, then the keys in the data are used as the index. If the\n",
              "    index is not None, the resulting Series is reindexed with the index values.\n",
              "dtype : str, numpy.dtype, or ExtensionDtype, optional\n",
              "    Data type for the output Series. If not specified, this will be\n",
              "    inferred from `data`.\n",
              "    See the :ref:`user guide &lt;basics.dtypes&gt;` for more usages.\n",
              "name : str, optional\n",
              "    The name to give to the Series.\n",
              "copy : bool, default False\n",
              "    Copy input data. Only affects Series or 1d ndarray input. See examples.\n",
              "\n",
              "Notes\n",
              "-----\n",
              "Please reference the :ref:`User Guide &lt;basics.series&gt;` for more information.\n",
              "\n",
              "Examples\n",
              "--------\n",
              "Constructing Series from a dictionary with an Index specified\n",
              "\n",
              "&gt;&gt;&gt; d = {&#x27;a&#x27;: 1, &#x27;b&#x27;: 2, &#x27;c&#x27;: 3}\n",
              "&gt;&gt;&gt; ser = pd.Series(data=d, index=[&#x27;a&#x27;, &#x27;b&#x27;, &#x27;c&#x27;])\n",
              "&gt;&gt;&gt; ser\n",
              "a   1\n",
              "b   2\n",
              "c   3\n",
              "dtype: int64\n",
              "\n",
              "The keys of the dictionary match with the Index values, hence the Index\n",
              "values have no effect.\n",
              "\n",
              "&gt;&gt;&gt; d = {&#x27;a&#x27;: 1, &#x27;b&#x27;: 2, &#x27;c&#x27;: 3}\n",
              "&gt;&gt;&gt; ser = pd.Series(data=d, index=[&#x27;x&#x27;, &#x27;y&#x27;, &#x27;z&#x27;])\n",
              "&gt;&gt;&gt; ser\n",
              "x   NaN\n",
              "y   NaN\n",
              "z   NaN\n",
              "dtype: float64\n",
              "\n",
              "Note that the Index is first build with the keys from the dictionary.\n",
              "After this the Series is reindexed with the given Index values, hence we\n",
              "get all NaN as a result.\n",
              "\n",
              "Constructing Series from a list with `copy=False`.\n",
              "\n",
              "&gt;&gt;&gt; r = [1, 2]\n",
              "&gt;&gt;&gt; ser = pd.Series(r, copy=False)\n",
              "&gt;&gt;&gt; ser.iloc[0] = 999\n",
              "&gt;&gt;&gt; r\n",
              "[1, 2]\n",
              "&gt;&gt;&gt; ser\n",
              "0    999\n",
              "1      2\n",
              "dtype: int64\n",
              "\n",
              "Due to input data type the Series has a `copy` of\n",
              "the original data even though `copy=False`, so\n",
              "the data is unchanged.\n",
              "\n",
              "Constructing Series from a 1d ndarray with `copy=False`.\n",
              "\n",
              "&gt;&gt;&gt; r = np.array([1, 2])\n",
              "&gt;&gt;&gt; ser = pd.Series(r, copy=False)\n",
              "&gt;&gt;&gt; ser.iloc[0] = 999\n",
              "&gt;&gt;&gt; r\n",
              "array([999,   2])\n",
              "&gt;&gt;&gt; ser\n",
              "0    999\n",
              "1      2\n",
              "dtype: int64\n",
              "\n",
              "Due to input data type the Series has a `view` on\n",
              "the original data, so\n",
              "the data is changed as well.</pre>\n",
              "      <script>\n",
              "      if (google.colab.kernel.accessAllowed && google.colab.files && google.colab.files.view) {\n",
              "        for (const element of document.querySelectorAll('.filepath')) {\n",
              "          element.style.display = 'block'\n",
              "          element.onclick = (event) => {\n",
              "            event.preventDefault();\n",
              "            event.stopPropagation();\n",
              "            google.colab.files.view(element.textContent, 216);\n",
              "          };\n",
              "        }\n",
              "      }\n",
              "      for (const element of document.querySelectorAll('.function-repr-contents')) {\n",
              "        element.onclick = (event) => {\n",
              "          event.preventDefault();\n",
              "          event.stopPropagation();\n",
              "          element.classList.toggle('function-repr-contents-collapsed');\n",
              "        };\n",
              "      }\n",
              "      </script>\n",
              "      </div>"
            ]
          },
          "metadata": {},
          "execution_count": 52
        }
      ]
    },
    {
      "cell_type": "code",
      "source": [],
      "metadata": {
        "id": "N7LOmWjUxlnH"
      },
      "execution_count": null,
      "outputs": []
    },
    {
      "cell_type": "code",
      "source": [
        "from sklearn.preprocessing import MinMaxScaler\n",
        "scalar = MinMaxScaler()\n",
        "\n",
        "df1 = scalar.fit_transform(np.array(df1).reshape(-1,1))"
      ],
      "metadata": {
        "id": "pVugkSwLxny3"
      },
      "execution_count": null,
      "outputs": []
    },
    {
      "cell_type": "code",
      "source": [
        "df1.shape"
      ],
      "metadata": {
        "colab": {
          "base_uri": "https://localhost:8080/"
        },
        "id": "Pe9g4HMT2IcA",
        "outputId": "da1c0cb1-66e9-48ff-8ca5-ac05e4f7406f"
      },
      "execution_count": null,
      "outputs": [
        {
          "output_type": "execute_result",
          "data": {
            "text/plain": [
              "(1509, 1)"
            ]
          },
          "metadata": {},
          "execution_count": 54
        }
      ]
    },
    {
      "cell_type": "code",
      "source": [
        "print(df1)"
      ],
      "metadata": {
        "colab": {
          "base_uri": "https://localhost:8080/"
        },
        "id": "XCWsWyI-2LVX",
        "outputId": "d924f348-1d59-4b1b-f276-8df66d4f3cff"
      },
      "execution_count": null,
      "outputs": [
        {
          "output_type": "stream",
          "name": "stdout",
          "text": [
            "[[0.05794644]\n",
            " [0.0655085 ]\n",
            " [0.06369963]\n",
            " ...\n",
            " [0.97762796]\n",
            " [0.97035477]\n",
            " [0.96422472]]\n"
          ]
        }
      ]
    },
    {
      "cell_type": "code",
      "source": [],
      "metadata": {
        "id": "2lem5-AT2Mjf"
      },
      "execution_count": null,
      "outputs": []
    },
    {
      "cell_type": "code",
      "source": [
        "training_size=int(len(df1)*0.75)\n",
        "test_size=len(df1)-training_size\n",
        "\n",
        "train_data,test_data=df1[0:training_size,:],df1[training_size:len(df1),:]"
      ],
      "metadata": {
        "id": "3lJ-wwcZ2N-f"
      },
      "execution_count": null,
      "outputs": []
    },
    {
      "cell_type": "code",
      "source": [
        "training_size,test_size"
      ],
      "metadata": {
        "colab": {
          "base_uri": "https://localhost:8080/"
        },
        "id": "0WT75k0b2YAI",
        "outputId": "87199d2e-4241-4acf-c084-7b86fc842ddc"
      },
      "execution_count": null,
      "outputs": [
        {
          "output_type": "execute_result",
          "data": {
            "text/plain": [
              "(1131, 378)"
            ]
          },
          "metadata": {},
          "execution_count": 103
        }
      ]
    },
    {
      "cell_type": "code",
      "source": [
        "import numpy\n",
        "\n",
        "def create_dataset(dataset, time_step):\n",
        "    dataX, dataY = [], []\n",
        "    l = len(dataset)-time_step-1\n",
        "\n",
        "    for i in range(l):\n",
        "        a = dataset[i:(i+time_step), 0]\n",
        "        dataX.append(a)\n",
        "        dataY.append(dataset[i + time_step, 0])\n",
        "    return numpy.array(dataX), numpy.array(dataY)"
      ],
      "metadata": {
        "id": "FC7ocxdJ2cSw"
      },
      "execution_count": null,
      "outputs": []
    },
    {
      "cell_type": "code",
      "source": [
        "time_step = 100\n",
        "X_train, y_train = create_dataset(train_data, time_step)\n",
        "X_test, ytest = create_dataset(test_data, time_step)"
      ],
      "metadata": {
        "id": "Hb9PveCE2qy4"
      },
      "execution_count": null,
      "outputs": []
    },
    {
      "cell_type": "code",
      "source": [
        "X_train.shape[0]"
      ],
      "metadata": {
        "colab": {
          "base_uri": "https://localhost:8080/"
        },
        "id": "wl2ntNqX2tPR",
        "outputId": "7090c66e-a8df-49cb-c41b-9f7c70d71681"
      },
      "execution_count": null,
      "outputs": [
        {
          "output_type": "execute_result",
          "data": {
            "text/plain": [
              "1030"
            ]
          },
          "metadata": {},
          "execution_count": 137
        }
      ]
    },
    {
      "cell_type": "code",
      "source": [
        "X_train.shape"
      ],
      "metadata": {
        "colab": {
          "base_uri": "https://localhost:8080/"
        },
        "id": "0OT-1LL42yqI",
        "outputId": "d6b02876-fb5f-401f-d4ee-0c544910eb69"
      },
      "execution_count": null,
      "outputs": [
        {
          "output_type": "execute_result",
          "data": {
            "text/plain": [
              "(1030, 100)"
            ]
          },
          "metadata": {},
          "execution_count": 138
        }
      ]
    },
    {
      "cell_type": "code",
      "source": [
        "X_test.shape"
      ],
      "metadata": {
        "colab": {
          "base_uri": "https://localhost:8080/"
        },
        "id": "5ctf0i9124oJ",
        "outputId": "fbd6dd98-bcdc-4aac-c1bc-b064e1d3db5d"
      },
      "execution_count": null,
      "outputs": [
        {
          "output_type": "execute_result",
          "data": {
            "text/plain": [
              "(277, 100)"
            ]
          },
          "metadata": {},
          "execution_count": 139
        }
      ]
    },
    {
      "cell_type": "code",
      "source": [
        "X_train =X_train.reshape(X_train.shape[0],X_train.shape[1] , 1)\n",
        "X_test = X_test.reshape(X_test.shape[0],X_test.shape[1] , 1)"
      ],
      "metadata": {
        "id": "i24ArJlL28hH"
      },
      "execution_count": null,
      "outputs": []
    },
    {
      "cell_type": "code",
      "source": [
        "from tensorflow.keras.models import Sequential\n",
        "from tensorflow.keras.layers import Dense\n",
        "from tensorflow.keras.layers import LSTM"
      ],
      "metadata": {
        "id": "0Dq8XkxP2_ho"
      },
      "execution_count": null,
      "outputs": []
    },
    {
      "cell_type": "code",
      "source": [
        "model=Sequential()\n",
        "model.add(LSTM(50,return_sequences=True,input_shape=(100,1)))\n",
        "model.add(LSTM(50,return_sequences=True))\n",
        "model.add(LSTM(50))\n",
        "model.add(Dense(1))\n",
        "\n",
        "model.compile(loss='mean_squared_error',optimizer='adam')"
      ],
      "metadata": {
        "id": "HZiz0UQG3JRu"
      },
      "execution_count": null,
      "outputs": []
    },
    {
      "cell_type": "code",
      "source": [
        "model.fit(X_train,y_train,validation_data=(X_test,ytest),epochs=25,batch_size=128,verbose=1)"
      ],
      "metadata": {
        "colab": {
          "base_uri": "https://localhost:8080/"
        },
        "id": "Ai6DOpSL3TsI",
        "outputId": "452d1e0b-c970-4787-df61-1733c0459ad3"
      },
      "execution_count": null,
      "outputs": [
        {
          "output_type": "stream",
          "name": "stdout",
          "text": [
            "Epoch 1/25\n",
            "9/9 [==============================] - 2s 245ms/step - loss: 7.1218e-04 - val_loss: 0.0021\n",
            "Epoch 2/25\n",
            "9/9 [==============================] - 2s 233ms/step - loss: 6.8556e-04 - val_loss: 0.0016\n",
            "Epoch 3/25\n",
            "9/9 [==============================] - 2s 233ms/step - loss: 6.5659e-04 - val_loss: 0.0018\n",
            "Epoch 4/25\n",
            "9/9 [==============================] - 2s 237ms/step - loss: 6.5542e-04 - val_loss: 0.0018\n",
            "Epoch 5/25\n",
            "9/9 [==============================] - 3s 339ms/step - loss: 6.6159e-04 - val_loss: 0.0030\n",
            "Epoch 6/25\n",
            "9/9 [==============================] - 2s 228ms/step - loss: 6.6920e-04 - val_loss: 0.0022\n",
            "Epoch 7/25\n",
            "9/9 [==============================] - 2s 233ms/step - loss: 6.3996e-04 - val_loss: 0.0027\n",
            "Epoch 8/25\n",
            "9/9 [==============================] - 2s 233ms/step - loss: 6.5060e-04 - val_loss: 0.0026\n",
            "Epoch 9/25\n",
            "9/9 [==============================] - 2s 232ms/step - loss: 6.5092e-04 - val_loss: 0.0014\n",
            "Epoch 10/25\n",
            "9/9 [==============================] - 2s 268ms/step - loss: 6.2412e-04 - val_loss: 0.0026\n",
            "Epoch 11/25\n",
            "9/9 [==============================] - 3s 284ms/step - loss: 6.4835e-04 - val_loss: 0.0027\n",
            "Epoch 12/25\n",
            "9/9 [==============================] - 2s 230ms/step - loss: 6.1039e-04 - val_loss: 0.0019\n",
            "Epoch 13/25\n",
            "9/9 [==============================] - 2s 230ms/step - loss: 6.1058e-04 - val_loss: 0.0015\n",
            "Epoch 14/25\n",
            "9/9 [==============================] - 2s 231ms/step - loss: 6.1262e-04 - val_loss: 0.0023\n",
            "Epoch 15/25\n",
            "9/9 [==============================] - 2s 230ms/step - loss: 6.0598e-04 - val_loss: 0.0018\n",
            "Epoch 16/25\n",
            "9/9 [==============================] - 3s 353ms/step - loss: 5.9409e-04 - val_loss: 0.0012\n",
            "Epoch 17/25\n",
            "9/9 [==============================] - 2s 245ms/step - loss: 6.1678e-04 - val_loss: 0.0012\n",
            "Epoch 18/25\n",
            "9/9 [==============================] - 2s 235ms/step - loss: 6.5504e-04 - val_loss: 0.0012\n",
            "Epoch 19/25\n",
            "9/9 [==============================] - 2s 231ms/step - loss: 6.3049e-04 - val_loss: 7.6077e-04\n",
            "Epoch 20/25\n",
            "9/9 [==============================] - 2s 233ms/step - loss: 7.2192e-04 - val_loss: 0.0010\n",
            "Epoch 21/25\n",
            "9/9 [==============================] - 3s 301ms/step - loss: 6.2156e-04 - val_loss: 0.0020\n",
            "Epoch 22/25\n",
            "9/9 [==============================] - 2s 248ms/step - loss: 5.9241e-04 - val_loss: 0.0018\n",
            "Epoch 23/25\n",
            "9/9 [==============================] - 2s 231ms/step - loss: 5.9788e-04 - val_loss: 0.0017\n",
            "Epoch 24/25\n",
            "9/9 [==============================] - 2s 232ms/step - loss: 5.9959e-04 - val_loss: 9.4996e-04\n",
            "Epoch 25/25\n",
            "9/9 [==============================] - 2s 232ms/step - loss: 6.2890e-04 - val_loss: 8.3518e-04\n"
          ]
        },
        {
          "output_type": "execute_result",
          "data": {
            "text/plain": [
              "<keras.src.callbacks.History at 0x7a604c200370>"
            ]
          },
          "metadata": {},
          "execution_count": 157
        }
      ]
    },
    {
      "cell_type": "code",
      "source": [
        "train_predict=model.predict(X_train)\n",
        "test_predict=model.predict(X_test)"
      ],
      "metadata": {
        "colab": {
          "base_uri": "https://localhost:8080/"
        },
        "id": "KJF8sRRW3WQo",
        "outputId": "6d458bf5-9e3f-4428-b6fe-733b4e35be5b"
      },
      "execution_count": null,
      "outputs": [
        {
          "output_type": "stream",
          "name": "stdout",
          "text": [
            "33/33 [==============================] - 1s 35ms/step\n",
            "9/9 [==============================] - 0s 36ms/step\n"
          ]
        }
      ]
    },
    {
      "cell_type": "code",
      "source": [
        "train_predict=scalar.inverse_transform(train_predict)\n",
        "test_predict=scalar.inverse_transform(test_predict)"
      ],
      "metadata": {
        "id": "y4SyUrtH3skp"
      },
      "execution_count": null,
      "outputs": []
    },
    {
      "cell_type": "code",
      "source": [
        "import math\n",
        "from sklearn.metrics import mean_squared_error\n",
        "math.sqrt(mean_squared_error(y_train,train_predict))"
      ],
      "metadata": {
        "colab": {
          "base_uri": "https://localhost:8080/"
        },
        "id": "nBgsGykG3vao",
        "outputId": "a1866f82-fd87-45d7-a320-7095448adfca"
      },
      "execution_count": null,
      "outputs": [
        {
          "output_type": "execute_result",
          "data": {
            "text/plain": [
              "561.1311579048784"
            ]
          },
          "metadata": {},
          "execution_count": 160
        }
      ]
    },
    {
      "cell_type": "code",
      "source": [
        "math.sqrt(mean_squared_error(ytest,test_predict))"
      ],
      "metadata": {
        "colab": {
          "base_uri": "https://localhost:8080/"
        },
        "id": "iRWQ5-YZ4P8A",
        "outputId": "2496e8f4-a29f-4f70-a43f-b69f6326f715"
      },
      "execution_count": null,
      "outputs": [
        {
          "output_type": "execute_result",
          "data": {
            "text/plain": [
              "916.2208456361514"
            ]
          },
          "metadata": {},
          "execution_count": 161
        }
      ]
    },
    {
      "cell_type": "code",
      "source": [
        "len(test_data)"
      ],
      "metadata": {
        "colab": {
          "base_uri": "https://localhost:8080/"
        },
        "id": "BQMlPo7i4VFA",
        "outputId": "99eb49db-8c20-4f73-9bdb-5024f7505b09"
      },
      "execution_count": null,
      "outputs": [
        {
          "output_type": "execute_result",
          "data": {
            "text/plain": [
              "378"
            ]
          },
          "metadata": {},
          "execution_count": 162
        }
      ]
    },
    {
      "cell_type": "code",
      "source": [
        "x_input=test_data[277:].reshape(1,-1)\n",
        "x_input.shape"
      ],
      "metadata": {
        "colab": {
          "base_uri": "https://localhost:8080/"
        },
        "id": "hz_gMThJ4W2Y",
        "outputId": "0e9c1eeb-2b81-4e08-867c-6fa6c379a180"
      },
      "execution_count": null,
      "outputs": [
        {
          "output_type": "execute_result",
          "data": {
            "text/plain": [
              "(1, 101)"
            ]
          },
          "metadata": {},
          "execution_count": 163
        }
      ]
    },
    {
      "cell_type": "code",
      "source": [
        "temp_input=list(x_input)\n",
        "temp_input=temp_input[0].tolist()\n",
        "print(len(temp_input))"
      ],
      "metadata": {
        "colab": {
          "base_uri": "https://localhost:8080/"
        },
        "id": "btTnaY6n4ZUA",
        "outputId": "468f7619-d6b9-484c-e2f8-9536bd21e0a0"
      },
      "execution_count": null,
      "outputs": [
        {
          "output_type": "stream",
          "name": "stdout",
          "text": [
            "101\n"
          ]
        }
      ]
    },
    {
      "cell_type": "code",
      "source": [
        "from numpy import array\n",
        "\n",
        "lst_output=[]\n",
        "n_steps=100\n",
        "i=0\n",
        "\n",
        "while(i<10):\n",
        "\n",
        "    if(len(temp_input)>100):\n",
        "        #print(temp_input)\n",
        "        x_input=np.array(temp_input[1:])\n",
        "        print(\"{} day input {}\".format(i,x_input))\n",
        "\n",
        "        x_input=x_input.reshape(1,-1)\n",
        "        x_input = x_input.reshape((1, n_steps, 1))\n",
        "        #print(x_input)\n",
        "        yhat = model.predict(x_input, verbose=0)\n",
        "        print(\"{} day output {}\".format(i,yhat))\n",
        "\n",
        "        temp_input.extend(yhat[0].tolist())\n",
        "        temp_input=temp_input[1:]\n",
        "        #print(temp_input)\n",
        "\n",
        "        lst_output.extend(yhat.tolist())  # to add prediction in new list\n",
        "        i=i+1\n",
        "    else:\n",
        "        x_input = x_input.reshape((1, n_steps,1))\n",
        "        yhat = model.predict(x_input)  #, verbose=0\n",
        "        print('predicted value is',yhat[0])\n",
        "        temp_input.extend(yhat[0].tolist())\n",
        "        print('length of temp input is',len(temp_input))\n",
        "        lst_output.extend(yhat.tolist())\n",
        "        i=i+1\n",
        "\n"
      ],
      "metadata": {
        "colab": {
          "base_uri": "https://localhost:8080/"
        },
        "id": "6i9Dd3v44ceg",
        "outputId": "429eab18-5427-466b-dadc-a346d526965e"
      },
      "execution_count": null,
      "outputs": [
        {
          "output_type": "stream",
          "name": "stdout",
          "text": [
            "0 day input [0.805811   0.80196717 0.78993318 0.80822288 0.81035828 0.8116898\n",
            " 0.81230538 0.79287262 0.79248322 0.79589992 0.80746914 0.81592304\n",
            " 0.80942874 0.80002015 0.78632803 0.80510756 0.81981717 0.83158734\n",
            " 0.8214753  0.81779477 0.81977944 0.82575876 0.82294498 0.8208598\n",
            " 0.81843535 0.81917652 0.81089842 0.80505734 0.80180387 0.80878809\n",
            " 0.82137479 0.81477997 0.81189083 0.80971763 0.8147674  0.83187623\n",
            " 0.84524174 0.85526583 0.84775405 0.85152251 0.84962571 0.86370723\n",
            " 0.88041408 0.88041408 0.87252539 0.88977245 0.89548795 0.89561353\n",
            " 0.89333989 0.89519906 0.88795101 0.89227219 0.89237271 0.86785253\n",
            " 0.86580499 0.88041408 0.91708126 0.92312336 0.92465583 0.92715565\n",
            " 0.93287114 0.93331076 0.94195312 0.93979257 0.94387507 0.94823389\n",
            " 0.93877501 0.93495632 0.93391377 0.92966796 0.93382583 0.94825904\n",
            " 0.93098691 0.93481816 0.94950262 0.95059547 0.9557834  0.97473874\n",
            " 0.95914996 0.93363737 0.92538443 0.92144008 0.9004372  0.90742142\n",
            " 0.93120043 0.95263043 0.9501307  0.95531863 0.96347106 0.96206417\n",
            " 0.97413581 0.98854387 1.         0.99570405 0.98712441 0.98230082\n",
            " 0.97848205 0.97762796 0.97035477 0.96422472]\n",
            "0 day output [[0.9693511]]\n",
            "1 day input [0.80196717 0.78993318 0.80822288 0.81035828 0.8116898  0.81230538\n",
            " 0.79287262 0.79248322 0.79589992 0.80746914 0.81592304 0.80942874\n",
            " 0.80002015 0.78632803 0.80510756 0.81981717 0.83158734 0.8214753\n",
            " 0.81779477 0.81977944 0.82575876 0.82294498 0.8208598  0.81843535\n",
            " 0.81917652 0.81089842 0.80505734 0.80180387 0.80878809 0.82137479\n",
            " 0.81477997 0.81189083 0.80971763 0.8147674  0.83187623 0.84524174\n",
            " 0.85526583 0.84775405 0.85152251 0.84962571 0.86370723 0.88041408\n",
            " 0.88041408 0.87252539 0.88977245 0.89548795 0.89561353 0.89333989\n",
            " 0.89519906 0.88795101 0.89227219 0.89237271 0.86785253 0.86580499\n",
            " 0.88041408 0.91708126 0.92312336 0.92465583 0.92715565 0.93287114\n",
            " 0.93331076 0.94195312 0.93979257 0.94387507 0.94823389 0.93877501\n",
            " 0.93495632 0.93391377 0.92966796 0.93382583 0.94825904 0.93098691\n",
            " 0.93481816 0.94950262 0.95059547 0.9557834  0.97473874 0.95914996\n",
            " 0.93363737 0.92538443 0.92144008 0.9004372  0.90742142 0.93120043\n",
            " 0.95263043 0.9501307  0.95531863 0.96347106 0.96206417 0.97413581\n",
            " 0.98854387 1.         0.99570405 0.98712441 0.98230082 0.97848205\n",
            " 0.97762796 0.97035477 0.96422472 0.96935111]\n",
            "1 day output [[0.97042364]]\n",
            "2 day input [0.78993318 0.80822288 0.81035828 0.8116898  0.81230538 0.79287262\n",
            " 0.79248322 0.79589992 0.80746914 0.81592304 0.80942874 0.80002015\n",
            " 0.78632803 0.80510756 0.81981717 0.83158734 0.8214753  0.81779477\n",
            " 0.81977944 0.82575876 0.82294498 0.8208598  0.81843535 0.81917652\n",
            " 0.81089842 0.80505734 0.80180387 0.80878809 0.82137479 0.81477997\n",
            " 0.81189083 0.80971763 0.8147674  0.83187623 0.84524174 0.85526583\n",
            " 0.84775405 0.85152251 0.84962571 0.86370723 0.88041408 0.88041408\n",
            " 0.87252539 0.88977245 0.89548795 0.89561353 0.89333989 0.89519906\n",
            " 0.88795101 0.89227219 0.89237271 0.86785253 0.86580499 0.88041408\n",
            " 0.91708126 0.92312336 0.92465583 0.92715565 0.93287114 0.93331076\n",
            " 0.94195312 0.93979257 0.94387507 0.94823389 0.93877501 0.93495632\n",
            " 0.93391377 0.92966796 0.93382583 0.94825904 0.93098691 0.93481816\n",
            " 0.94950262 0.95059547 0.9557834  0.97473874 0.95914996 0.93363737\n",
            " 0.92538443 0.92144008 0.9004372  0.90742142 0.93120043 0.95263043\n",
            " 0.9501307  0.95531863 0.96347106 0.96206417 0.97413581 0.98854387\n",
            " 1.         0.99570405 0.98712441 0.98230082 0.97848205 0.97762796\n",
            " 0.97035477 0.96422472 0.96935111 0.97042364]\n",
            "2 day output [[0.9708194]]\n",
            "3 day input [0.80822288 0.81035828 0.8116898  0.81230538 0.79287262 0.79248322\n",
            " 0.79589992 0.80746914 0.81592304 0.80942874 0.80002015 0.78632803\n",
            " 0.80510756 0.81981717 0.83158734 0.8214753  0.81779477 0.81977944\n",
            " 0.82575876 0.82294498 0.8208598  0.81843535 0.81917652 0.81089842\n",
            " 0.80505734 0.80180387 0.80878809 0.82137479 0.81477997 0.81189083\n",
            " 0.80971763 0.8147674  0.83187623 0.84524174 0.85526583 0.84775405\n",
            " 0.85152251 0.84962571 0.86370723 0.88041408 0.88041408 0.87252539\n",
            " 0.88977245 0.89548795 0.89561353 0.89333989 0.89519906 0.88795101\n",
            " 0.89227219 0.89237271 0.86785253 0.86580499 0.88041408 0.91708126\n",
            " 0.92312336 0.92465583 0.92715565 0.93287114 0.93331076 0.94195312\n",
            " 0.93979257 0.94387507 0.94823389 0.93877501 0.93495632 0.93391377\n",
            " 0.92966796 0.93382583 0.94825904 0.93098691 0.93481816 0.94950262\n",
            " 0.95059547 0.9557834  0.97473874 0.95914996 0.93363737 0.92538443\n",
            " 0.92144008 0.9004372  0.90742142 0.93120043 0.95263043 0.9501307\n",
            " 0.95531863 0.96347106 0.96206417 0.97413581 0.98854387 1.\n",
            " 0.99570405 0.98712441 0.98230082 0.97848205 0.97762796 0.97035477\n",
            " 0.96422472 0.96935111 0.97042364 0.97081941]\n",
            "3 day output [[0.970693]]\n",
            "4 day input [0.81035828 0.8116898  0.81230538 0.79287262 0.79248322 0.79589992\n",
            " 0.80746914 0.81592304 0.80942874 0.80002015 0.78632803 0.80510756\n",
            " 0.81981717 0.83158734 0.8214753  0.81779477 0.81977944 0.82575876\n",
            " 0.82294498 0.8208598  0.81843535 0.81917652 0.81089842 0.80505734\n",
            " 0.80180387 0.80878809 0.82137479 0.81477997 0.81189083 0.80971763\n",
            " 0.8147674  0.83187623 0.84524174 0.85526583 0.84775405 0.85152251\n",
            " 0.84962571 0.86370723 0.88041408 0.88041408 0.87252539 0.88977245\n",
            " 0.89548795 0.89561353 0.89333989 0.89519906 0.88795101 0.89227219\n",
            " 0.89237271 0.86785253 0.86580499 0.88041408 0.91708126 0.92312336\n",
            " 0.92465583 0.92715565 0.93287114 0.93331076 0.94195312 0.93979257\n",
            " 0.94387507 0.94823389 0.93877501 0.93495632 0.93391377 0.92966796\n",
            " 0.93382583 0.94825904 0.93098691 0.93481816 0.94950262 0.95059547\n",
            " 0.9557834  0.97473874 0.95914996 0.93363737 0.92538443 0.92144008\n",
            " 0.9004372  0.90742142 0.93120043 0.95263043 0.9501307  0.95531863\n",
            " 0.96347106 0.96206417 0.97413581 0.98854387 1.         0.99570405\n",
            " 0.98712441 0.98230082 0.97848205 0.97762796 0.97035477 0.96422472\n",
            " 0.96935111 0.97042364 0.97081941 0.97069299]\n",
            "4 day output [[0.9701875]]\n",
            "5 day input [0.8116898  0.81230538 0.79287262 0.79248322 0.79589992 0.80746914\n",
            " 0.81592304 0.80942874 0.80002015 0.78632803 0.80510756 0.81981717\n",
            " 0.83158734 0.8214753  0.81779477 0.81977944 0.82575876 0.82294498\n",
            " 0.8208598  0.81843535 0.81917652 0.81089842 0.80505734 0.80180387\n",
            " 0.80878809 0.82137479 0.81477997 0.81189083 0.80971763 0.8147674\n",
            " 0.83187623 0.84524174 0.85526583 0.84775405 0.85152251 0.84962571\n",
            " 0.86370723 0.88041408 0.88041408 0.87252539 0.88977245 0.89548795\n",
            " 0.89561353 0.89333989 0.89519906 0.88795101 0.89227219 0.89237271\n",
            " 0.86785253 0.86580499 0.88041408 0.91708126 0.92312336 0.92465583\n",
            " 0.92715565 0.93287114 0.93331076 0.94195312 0.93979257 0.94387507\n",
            " 0.94823389 0.93877501 0.93495632 0.93391377 0.92966796 0.93382583\n",
            " 0.94825904 0.93098691 0.93481816 0.94950262 0.95059547 0.9557834\n",
            " 0.97473874 0.95914996 0.93363737 0.92538443 0.92144008 0.9004372\n",
            " 0.90742142 0.93120043 0.95263043 0.9501307  0.95531863 0.96347106\n",
            " 0.96206417 0.97413581 0.98854387 1.         0.99570405 0.98712441\n",
            " 0.98230082 0.97848205 0.97762796 0.97035477 0.96422472 0.96935111\n",
            " 0.97042364 0.97081941 0.97069299 0.97018749]\n",
            "5 day output [[0.969422]]\n",
            "6 day input [0.81230538 0.79287262 0.79248322 0.79589992 0.80746914 0.81592304\n",
            " 0.80942874 0.80002015 0.78632803 0.80510756 0.81981717 0.83158734\n",
            " 0.8214753  0.81779477 0.81977944 0.82575876 0.82294498 0.8208598\n",
            " 0.81843535 0.81917652 0.81089842 0.80505734 0.80180387 0.80878809\n",
            " 0.82137479 0.81477997 0.81189083 0.80971763 0.8147674  0.83187623\n",
            " 0.84524174 0.85526583 0.84775405 0.85152251 0.84962571 0.86370723\n",
            " 0.88041408 0.88041408 0.87252539 0.88977245 0.89548795 0.89561353\n",
            " 0.89333989 0.89519906 0.88795101 0.89227219 0.89237271 0.86785253\n",
            " 0.86580499 0.88041408 0.91708126 0.92312336 0.92465583 0.92715565\n",
            " 0.93287114 0.93331076 0.94195312 0.93979257 0.94387507 0.94823389\n",
            " 0.93877501 0.93495632 0.93391377 0.92966796 0.93382583 0.94825904\n",
            " 0.93098691 0.93481816 0.94950262 0.95059547 0.9557834  0.97473874\n",
            " 0.95914996 0.93363737 0.92538443 0.92144008 0.9004372  0.90742142\n",
            " 0.93120043 0.95263043 0.9501307  0.95531863 0.96347106 0.96206417\n",
            " 0.97413581 0.98854387 1.         0.99570405 0.98712441 0.98230082\n",
            " 0.97848205 0.97762796 0.97035477 0.96422472 0.96935111 0.97042364\n",
            " 0.97081941 0.97069299 0.97018749 0.96942198]\n",
            "6 day output [[0.96848965]]\n",
            "7 day input [0.79287262 0.79248322 0.79589992 0.80746914 0.81592304 0.80942874\n",
            " 0.80002015 0.78632803 0.80510756 0.81981717 0.83158734 0.8214753\n",
            " 0.81779477 0.81977944 0.82575876 0.82294498 0.8208598  0.81843535\n",
            " 0.81917652 0.81089842 0.80505734 0.80180387 0.80878809 0.82137479\n",
            " 0.81477997 0.81189083 0.80971763 0.8147674  0.83187623 0.84524174\n",
            " 0.85526583 0.84775405 0.85152251 0.84962571 0.86370723 0.88041408\n",
            " 0.88041408 0.87252539 0.88977245 0.89548795 0.89561353 0.89333989\n",
            " 0.89519906 0.88795101 0.89227219 0.89237271 0.86785253 0.86580499\n",
            " 0.88041408 0.91708126 0.92312336 0.92465583 0.92715565 0.93287114\n",
            " 0.93331076 0.94195312 0.93979257 0.94387507 0.94823389 0.93877501\n",
            " 0.93495632 0.93391377 0.92966796 0.93382583 0.94825904 0.93098691\n",
            " 0.93481816 0.94950262 0.95059547 0.9557834  0.97473874 0.95914996\n",
            " 0.93363737 0.92538443 0.92144008 0.9004372  0.90742142 0.93120043\n",
            " 0.95263043 0.9501307  0.95531863 0.96347106 0.96206417 0.97413581\n",
            " 0.98854387 1.         0.99570405 0.98712441 0.98230082 0.97848205\n",
            " 0.97762796 0.97035477 0.96422472 0.96935111 0.97042364 0.97081941\n",
            " 0.97069299 0.97018749 0.96942198 0.96848965]\n",
            "7 day output [[0.96745884]]\n",
            "8 day input [0.79248322 0.79589992 0.80746914 0.81592304 0.80942874 0.80002015\n",
            " 0.78632803 0.80510756 0.81981717 0.83158734 0.8214753  0.81779477\n",
            " 0.81977944 0.82575876 0.82294498 0.8208598  0.81843535 0.81917652\n",
            " 0.81089842 0.80505734 0.80180387 0.80878809 0.82137479 0.81477997\n",
            " 0.81189083 0.80971763 0.8147674  0.83187623 0.84524174 0.85526583\n",
            " 0.84775405 0.85152251 0.84962571 0.86370723 0.88041408 0.88041408\n",
            " 0.87252539 0.88977245 0.89548795 0.89561353 0.89333989 0.89519906\n",
            " 0.88795101 0.89227219 0.89237271 0.86785253 0.86580499 0.88041408\n",
            " 0.91708126 0.92312336 0.92465583 0.92715565 0.93287114 0.93331076\n",
            " 0.94195312 0.93979257 0.94387507 0.94823389 0.93877501 0.93495632\n",
            " 0.93391377 0.92966796 0.93382583 0.94825904 0.93098691 0.93481816\n",
            " 0.94950262 0.95059547 0.9557834  0.97473874 0.95914996 0.93363737\n",
            " 0.92538443 0.92144008 0.9004372  0.90742142 0.93120043 0.95263043\n",
            " 0.9501307  0.95531863 0.96347106 0.96206417 0.97413581 0.98854387\n",
            " 1.         0.99570405 0.98712441 0.98230082 0.97848205 0.97762796\n",
            " 0.97035477 0.96422472 0.96935111 0.97042364 0.97081941 0.97069299\n",
            " 0.97018749 0.96942198 0.96848965 0.96745884]\n",
            "8 day output [[0.9663767]]\n",
            "9 day input [0.79589992 0.80746914 0.81592304 0.80942874 0.80002015 0.78632803\n",
            " 0.80510756 0.81981717 0.83158734 0.8214753  0.81779477 0.81977944\n",
            " 0.82575876 0.82294498 0.8208598  0.81843535 0.81917652 0.81089842\n",
            " 0.80505734 0.80180387 0.80878809 0.82137479 0.81477997 0.81189083\n",
            " 0.80971763 0.8147674  0.83187623 0.84524174 0.85526583 0.84775405\n",
            " 0.85152251 0.84962571 0.86370723 0.88041408 0.88041408 0.87252539\n",
            " 0.88977245 0.89548795 0.89561353 0.89333989 0.89519906 0.88795101\n",
            " 0.89227219 0.89237271 0.86785253 0.86580499 0.88041408 0.91708126\n",
            " 0.92312336 0.92465583 0.92715565 0.93287114 0.93331076 0.94195312\n",
            " 0.93979257 0.94387507 0.94823389 0.93877501 0.93495632 0.93391377\n",
            " 0.92966796 0.93382583 0.94825904 0.93098691 0.93481816 0.94950262\n",
            " 0.95059547 0.9557834  0.97473874 0.95914996 0.93363737 0.92538443\n",
            " 0.92144008 0.9004372  0.90742142 0.93120043 0.95263043 0.9501307\n",
            " 0.95531863 0.96347106 0.96206417 0.97413581 0.98854387 1.\n",
            " 0.99570405 0.98712441 0.98230082 0.97848205 0.97762796 0.97035477\n",
            " 0.96422472 0.96935111 0.97042364 0.97081941 0.97069299 0.97018749\n",
            " 0.96942198 0.96848965 0.96745884 0.96637672]\n",
            "9 day output [[0.965274]]\n"
          ]
        }
      ]
    },
    {
      "cell_type": "code",
      "source": [
        "print('predicted val for next 10 days',lst_output)"
      ],
      "metadata": {
        "colab": {
          "base_uri": "https://localhost:8080/"
        },
        "id": "yYlFtWPv4jTw",
        "outputId": "1575420b-cb4f-482f-c0ec-ec40b78e001f"
      },
      "execution_count": null,
      "outputs": [
        {
          "output_type": "stream",
          "name": "stdout",
          "text": [
            "predicted val for next 10 days [[0.9693511128425598], [0.9704236388206482], [0.9708194136619568], [0.9706929922103882], [0.9701874852180481], [0.9694219827651978], [0.9684896469116211], [0.9674588441848755], [0.9663767218589783], [0.9652739763259888]]\n"
          ]
        }
      ]
    },
    {
      "cell_type": "code",
      "source": [
        "day_new=np.arange(1,101)\n",
        "day_pred=np.arange(101,111)"
      ],
      "metadata": {
        "id": "IkoiMAM242MI"
      },
      "execution_count": null,
      "outputs": []
    },
    {
      "cell_type": "code",
      "source": [
        "import matplotlib.pyplot as plt"
      ],
      "metadata": {
        "id": "dMQiu5iS45F4"
      },
      "execution_count": null,
      "outputs": []
    },
    {
      "cell_type": "code",
      "source": [
        "len(df1)"
      ],
      "metadata": {
        "colab": {
          "base_uri": "https://localhost:8080/"
        },
        "id": "8nAGoM7V47WQ",
        "outputId": "56199fd3-6225-4cf8-86f1-8edc99a01a44"
      },
      "execution_count": null,
      "outputs": [
        {
          "output_type": "execute_result",
          "data": {
            "text/plain": [
              "1509"
            ]
          },
          "metadata": {},
          "execution_count": 169
        }
      ]
    },
    {
      "cell_type": "code",
      "source": [
        "df3=df1.tolist()\n",
        "df3.extend(lst_output)\n",
        "plt.plot(df3[1409:])"
      ],
      "metadata": {
        "colab": {
          "base_uri": "https://localhost:8080/",
          "height": 447
        },
        "id": "h4QOfseh48iH",
        "outputId": "b2b610f4-3c2f-4fbc-fd99-b588e42f3863"
      },
      "execution_count": null,
      "outputs": [
        {
          "output_type": "execute_result",
          "data": {
            "text/plain": [
              "[<matplotlib.lines.Line2D at 0x7a604e21ae90>]"
            ]
          },
          "metadata": {},
          "execution_count": 175
        },
        {
          "output_type": "display_data",
          "data": {
            "text/plain": [
              "<Figure size 640x480 with 1 Axes>"
            ],
            "image/png": "[encoded data removed]"
          },
          "metadata": {}
        }
      ]
    },
    {
      "cell_type": "code",
      "source": [],
      "metadata": {
        "id": "3excv4kN49zg"
      },
      "execution_count": null,
      "outputs": []
    },
    {
      "cell_type": "code",
      "source": [],
      "metadata": {
        "id": "Ig2VOJVf5AY_"
      },
      "execution_count": null,
      "outputs": []
    },
    {
      "cell_type": "code",
      "source": [],
      "metadata": {
        "id": "eDYljsij5BRw"
      },
      "execution_count": null,
      "outputs": []
    },
    {
      "cell_type": "code",
      "source": [],
      "metadata": {
        "id": "KtKB1QuU5CqY"
      },
      "execution_count": null,
      "outputs": []
    }
  ]
}